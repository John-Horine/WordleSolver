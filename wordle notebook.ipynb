{
 "cells": [
  {
   "cell_type": "code",
   "execution_count": 78,
   "metadata": {},
   "outputs": [],
   "source": [
    "import random as rd\n",
    "currentWordList= open(\"words.csv\").read().splitlines()\n",
    "totalWordList= open(\"words.csv\").read().splitlines()"
   ]
  },
  {
   "cell_type": "code",
   "execution_count": null,
   "metadata": {},
   "outputs": [],
   "source": [
    "def reduceList(word,infoList,currentWordList):\n",
    "    for index, letter in enumerate(word):\n",
    "        if(infoList[index]==0):\n",
    "            currentWordList= list(filter(lambda x: not(letter in x),currentWordList))\n",
    "        elif(infoList[index]==1):\n",
    "            currentWordList= list(filter(lambda x: letter in x and x[index] != letter,currentWordList))\n",
    "        elif(infoList[index]==2):\n",
    "            currentWordList= list(filter(lambda x: x[index] == letter,currentWordList))\n",
    "    return currentWordList"
   ]
  },
  {
   "cell_type": "code",
   "execution_count": null,
   "metadata": {},
   "outputs": [],
   "source": [
    "\n",
    "# Convert the number to Lth\n",
    "# base and print the sequence\n",
    "def convert_To_Len_th_base(n, arr, Len, L):\n",
    "    myList=[]\n",
    "    totalList=[]\n",
    "    # Sequence is of Length L\n",
    "    for j in range(L):\n",
    "        # Print the ith element\n",
    "         # of sequence\n",
    "        myList.append(arr[n % Len])\n",
    "        n //= Len\n",
    "        if ((j+1)%5==0):\n",
    "            return myList\n",
    "# Print all the permuataions\n",
    "def printf(arr, Len, L):\n",
    "    totalList=[]\n",
    "    # There can be (Len)^l permutations\n",
    "    for i in range(pow(Len, L)):\n",
    "         \n",
    "        # Convert i to Len th base\n",
    "        totalList.append(convert_To_Len_th_base(i, arr, Len, L))\n",
    "    return totalList       \n"
   ]
  },
  {
   "cell_type": "code",
   "execution_count": null,
   "metadata": {},
   "outputs": [],
   "source": [
    "def evaluateWord(word,currentWordList):\n",
    "    score=0\n",
    "    currentWordListCopy=currentWordList\n",
    "    for pattern in printf([0,1,2],3,5):\n",
    "        reducedList= reduceList(word,pattern,currentWordList)\n",
    "        score+= (len(reducedList)/len(currentWordList))*len(reducedList)\n",
    "        currentWordList=currentWordListCopy\n",
    "    return score"
   ]
  },
  {
   "cell_type": "code",
   "execution_count": null,
   "metadata": {},
   "outputs": [],
   "source": [
    "def chooseWord(currentWordList):\n",
    "    minvalue= 10000000\n",
    "    minword = \"\"\n",
    "    for element in currentWordList:\n",
    "        wordEval= evaluateWord(element,currentWordList)\n",
    "        if wordEval < minvalue:\n",
    "            minword = element\n",
    "            minvalue = wordEval\n",
    "    return minword\n",
    "\n"
   ]
  },
  {
   "cell_type": "code",
   "execution_count": null,
   "metadata": {},
   "outputs": [],
   "source": [
    "def play():\n",
    "    wordlist=currentWordList\n",
    "    bestGuess = \"raise\"\n",
    "    print(\"the best Guess is \" + bestGuess)\n",
    "    for i in range(6):\n",
    "        pattern= input(\"Insert Pattern with no spaces, 0 is gray, 1 is yellow, 2 is green\")\n",
    "        splitPattern = [int(num) for num in pattern]\n",
    "        wordlist = reduceList(bestGuess,splitPattern,wordlist)\n",
    "        print(wordlist)\n",
    "        bestGuess = chooseWord(wordlist)\n",
    "        print(\"the best Guess is \" + bestGuess)"
   ]
  },
  {
   "cell_type": "code",
   "execution_count": null,
   "metadata": {},
   "outputs": [],
   "source": [
    "play()"
   ]
  },
  {
   "cell_type": "code",
   "execution_count": null,
   "metadata": {},
   "outputs": [],
   "source": [
    "def testScoringAlgorithm():\n",
    "    scoreList =[0,0,0,0,0,0,0]\n",
    "    for word in totalWordList:\n",
    "        "
   ]
  }
 ],
 "metadata": {
  "interpreter": {
   "hash": "fb7ebcaf088e6af549b517fb83c062ac8f2862d49f3c55adada0f533d5ad357d"
  },
  "kernelspec": {
   "display_name": "Python 3.10.2 64-bit",
   "language": "python",
   "name": "python3"
  },
  "language_info": {
   "codemirror_mode": {
    "name": "ipython",
    "version": 3
   },
   "file_extension": ".py",
   "mimetype": "text/x-python",
   "name": "python",
   "nbconvert_exporter": "python",
   "pygments_lexer": "ipython3",
   "version": "3.10.2"
  },
  "orig_nbformat": 4
 },
 "nbformat": 4,
 "nbformat_minor": 2
}
